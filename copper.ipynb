{
 "cells": [
  {
   "cell_type": "code",
   "execution_count": null,
   "metadata": {},
   "outputs": [],
   "source": [
    "%pip install -U scikit-learn"
   ]
  },
  {
   "cell_type": "code",
   "execution_count": 1,
   "metadata": {},
   "outputs": [],
   "source": [
    "import pandas as pd\n",
    "import numpy as np\n",
    "import plotly.express as px\n",
    "import matplotlib.pyplot as plt\n",
    "%matplotlib inline\n",
    "import seaborn as sns\n",
    "from sklearn.model_selection import train_test_split\n",
    "from sklearn.linear_model import LinearRegression\n",
    "from sklearn.linear_model import LogisticRegression\n",
    "from sklearn.metrics import r2_score\n",
    "from sklearn.preprocessing import FunctionTransformer,LabelEncoder,MinMaxScaler,OneHotEncoder,StandardScaler\n",
    "from scipy.stats import zscore\n",
    "import warnings\n",
    "warnings.filterwarnings(\"ignore\")"
   ]
  },
  {
   "cell_type": "code",
   "execution_count": 45,
   "metadata": {},
   "outputs": [],
   "source": [
    "data = pd.read_excel(\"Copper_Set.xlsx\")"
   ]
  },
  {
   "cell_type": "code",
   "execution_count": 46,
   "metadata": {},
   "outputs": [
    {
     "data": {
      "text/html": [
       "<div>\n",
       "<style scoped>\n",
       "    .dataframe tbody tr th:only-of-type {\n",
       "        vertical-align: middle;\n",
       "    }\n",
       "\n",
       "    .dataframe tbody tr th {\n",
       "        vertical-align: top;\n",
       "    }\n",
       "\n",
       "    .dataframe thead th {\n",
       "        text-align: right;\n",
       "    }\n",
       "</style>\n",
       "<table border=\"1\" class=\"dataframe\">\n",
       "  <thead>\n",
       "    <tr style=\"text-align: right;\">\n",
       "      <th></th>\n",
       "      <th>id</th>\n",
       "      <th>item_date</th>\n",
       "      <th>quantity tons</th>\n",
       "      <th>customer</th>\n",
       "      <th>country</th>\n",
       "      <th>status</th>\n",
       "      <th>item type</th>\n",
       "      <th>application</th>\n",
       "      <th>thickness</th>\n",
       "      <th>width</th>\n",
       "      <th>material_ref</th>\n",
       "      <th>product_ref</th>\n",
       "      <th>delivery date</th>\n",
       "      <th>selling_price</th>\n",
       "    </tr>\n",
       "  </thead>\n",
       "  <tbody>\n",
       "    <tr>\n",
       "      <th>0</th>\n",
       "      <td>EC06F063-9DF0-440C-8764-0B0C05A4F6AE</td>\n",
       "      <td>20210401.0</td>\n",
       "      <td>54.151139</td>\n",
       "      <td>30156308.0</td>\n",
       "      <td>28.0</td>\n",
       "      <td>Won</td>\n",
       "      <td>W</td>\n",
       "      <td>10.0</td>\n",
       "      <td>2.00</td>\n",
       "      <td>1500.0</td>\n",
       "      <td>DEQ1 S460MC</td>\n",
       "      <td>1670798778</td>\n",
       "      <td>20210701.0</td>\n",
       "      <td>854.00</td>\n",
       "    </tr>\n",
       "    <tr>\n",
       "      <th>1</th>\n",
       "      <td>4E5F4B3D-DDDF-499D-AFDE-A3227EC49425</td>\n",
       "      <td>20210401.0</td>\n",
       "      <td>768.024839</td>\n",
       "      <td>30202938.0</td>\n",
       "      <td>25.0</td>\n",
       "      <td>Won</td>\n",
       "      <td>W</td>\n",
       "      <td>41.0</td>\n",
       "      <td>0.80</td>\n",
       "      <td>1210.0</td>\n",
       "      <td>0000000000000000000000000000000000104991</td>\n",
       "      <td>1668701718</td>\n",
       "      <td>20210401.0</td>\n",
       "      <td>1047.00</td>\n",
       "    </tr>\n",
       "    <tr>\n",
       "      <th>2</th>\n",
       "      <td>E140FF1B-2407-4C02-A0DD-780A093B1158</td>\n",
       "      <td>20210401.0</td>\n",
       "      <td>386.127949</td>\n",
       "      <td>30153963.0</td>\n",
       "      <td>30.0</td>\n",
       "      <td>Won</td>\n",
       "      <td>WI</td>\n",
       "      <td>28.0</td>\n",
       "      <td>0.38</td>\n",
       "      <td>952.0</td>\n",
       "      <td>S0380700</td>\n",
       "      <td>628377</td>\n",
       "      <td>20210101.0</td>\n",
       "      <td>644.33</td>\n",
       "    </tr>\n",
       "    <tr>\n",
       "      <th>3</th>\n",
       "      <td>F8D507A0-9C62-4EFE-831E-33E1DA53BB50</td>\n",
       "      <td>20210401.0</td>\n",
       "      <td>202.411065</td>\n",
       "      <td>30349574.0</td>\n",
       "      <td>32.0</td>\n",
       "      <td>Won</td>\n",
       "      <td>S</td>\n",
       "      <td>59.0</td>\n",
       "      <td>2.30</td>\n",
       "      <td>1317.0</td>\n",
       "      <td>DX51D+ZM310MAO 2.3X1317</td>\n",
       "      <td>1668701718</td>\n",
       "      <td>20210101.0</td>\n",
       "      <td>768.00</td>\n",
       "    </tr>\n",
       "    <tr>\n",
       "      <th>4</th>\n",
       "      <td>4E1C4E78-152B-430A-8094-ADD889C9D0AD</td>\n",
       "      <td>20210401.0</td>\n",
       "      <td>785.526262</td>\n",
       "      <td>30211560.0</td>\n",
       "      <td>28.0</td>\n",
       "      <td>Won</td>\n",
       "      <td>W</td>\n",
       "      <td>10.0</td>\n",
       "      <td>4.00</td>\n",
       "      <td>2000.0</td>\n",
       "      <td>2_S275JR+AR-CL1</td>\n",
       "      <td>640665</td>\n",
       "      <td>20210301.0</td>\n",
       "      <td>577.00</td>\n",
       "    </tr>\n",
       "  </tbody>\n",
       "</table>\n",
       "</div>"
      ],
      "text/plain": [
       "                                     id   item_date quantity tons    customer  \\\n",
       "0  EC06F063-9DF0-440C-8764-0B0C05A4F6AE  20210401.0     54.151139  30156308.0   \n",
       "1  4E5F4B3D-DDDF-499D-AFDE-A3227EC49425  20210401.0    768.024839  30202938.0   \n",
       "2  E140FF1B-2407-4C02-A0DD-780A093B1158  20210401.0    386.127949  30153963.0   \n",
       "3  F8D507A0-9C62-4EFE-831E-33E1DA53BB50  20210401.0    202.411065  30349574.0   \n",
       "4  4E1C4E78-152B-430A-8094-ADD889C9D0AD  20210401.0    785.526262  30211560.0   \n",
       "\n",
       "   country status item type  application  thickness   width  \\\n",
       "0     28.0    Won         W         10.0       2.00  1500.0   \n",
       "1     25.0    Won         W         41.0       0.80  1210.0   \n",
       "2     30.0    Won        WI         28.0       0.38   952.0   \n",
       "3     32.0    Won         S         59.0       2.30  1317.0   \n",
       "4     28.0    Won         W         10.0       4.00  2000.0   \n",
       "\n",
       "                               material_ref  product_ref  delivery date  \\\n",
       "0                               DEQ1 S460MC   1670798778     20210701.0   \n",
       "1  0000000000000000000000000000000000104991   1668701718     20210401.0   \n",
       "2                                  S0380700       628377     20210101.0   \n",
       "3                   DX51D+ZM310MAO 2.3X1317   1668701718     20210101.0   \n",
       "4                           2_S275JR+AR-CL1       640665     20210301.0   \n",
       "\n",
       "   selling_price  \n",
       "0         854.00  \n",
       "1        1047.00  \n",
       "2         644.33  \n",
       "3         768.00  \n",
       "4         577.00  "
      ]
     },
     "execution_count": 46,
     "metadata": {},
     "output_type": "execute_result"
    }
   ],
   "source": [
    "data.head()"
   ]
  },
  {
   "cell_type": "code",
   "execution_count": 50,
   "metadata": {},
   "outputs": [
    {
     "name": "stdout",
     "output_type": "stream",
     "text": [
      "<class 'pandas.core.frame.DataFrame'>\n",
      "RangeIndex: 181673 entries, 0 to 181672\n",
      "Data columns (total 14 columns):\n",
      " #   Column         Non-Null Count   Dtype  \n",
      "---  ------         --------------   -----  \n",
      " 0   id             181671 non-null  object \n",
      " 1   item_date      181672 non-null  float64\n",
      " 2   quantity tons  181673 non-null  object \n",
      " 3   customer       181672 non-null  float64\n",
      " 4   country        181645 non-null  float64\n",
      " 5   status         181671 non-null  object \n",
      " 6   item type      181673 non-null  object \n",
      " 7   application    181649 non-null  float64\n",
      " 8   thickness      181672 non-null  float64\n",
      " 9   width          181673 non-null  float64\n",
      " 10  material_ref   103754 non-null  object \n",
      " 11  product_ref    181673 non-null  int64  \n",
      " 12  delivery date  181672 non-null  float64\n",
      " 13  selling_price  181672 non-null  float64\n",
      "dtypes: float64(8), int64(1), object(5)\n",
      "memory usage: 19.4+ MB\n"
     ]
    }
   ],
   "source": [
    "data.info()"
   ]
  },
  {
   "cell_type": "code",
   "execution_count": 51,
   "metadata": {},
   "outputs": [],
   "source": [
    "data[\"quantity tons\"].replace(\"e\",np.nan,inplace=True)"
   ]
  },
  {
   "cell_type": "code",
   "execution_count": 52,
   "metadata": {},
   "outputs": [],
   "source": [
    "data['quantity tons'].fillna(data['quantity tons'].median(),inplace=True)"
   ]
  },
  {
   "cell_type": "code",
   "execution_count": 55,
   "metadata": {},
   "outputs": [
    {
     "data": {
      "text/plain": [
       "quantity tons    0\n",
       "customer         0\n",
       "country          0\n",
       "status           0\n",
       "item type        0\n",
       "application      0\n",
       "thickness        0\n",
       "width            0\n",
       "product_ref      0\n",
       "selling_price    0\n",
       "dtype: int64"
      ]
     },
     "execution_count": 55,
     "metadata": {},
     "output_type": "execute_result"
    }
   ],
   "source": [
    "data.isnull().sum()"
   ]
  },
  {
   "cell_type": "code",
   "execution_count": 54,
   "metadata": {},
   "outputs": [],
   "source": [
    "data.drop(columns=[\"id\",\"item_date\",\"material_ref\",\"delivery date\"],axis=1,inplace=True)\n",
    "data[\"customer\"] = data[\"customer\"].fillna(data[\"customer\"].median())\n",
    "data[\"country\"] = data[\"country\"].fillna(data[\"country\"].median())\n",
    "data[\"status\"] = data[\"status\"].fillna(\"Won\")\n",
    "data[\"application\"] = data[\"application\"].fillna(data[\"application\"].median())\n",
    "data[\"thickness\"] = data[\"thickness\"].fillna(data[\"thickness\"].median())\n",
    "data[\"selling_price\"] = data[\"selling_price\"].fillna(data[\"selling_price\"].median())"
   ]
  },
  {
   "cell_type": "code",
   "execution_count": 15,
   "metadata": {},
   "outputs": [],
   "source": [
    "# ['quantity tons',\"customer\",\"country\",\"application\",\"thickness\",\"width\",\"product_ref\",\"selling_price\"]"
   ]
  },
  {
   "cell_type": "code",
   "execution_count": 56,
   "metadata": {},
   "outputs": [
    {
     "data": {
      "image/png": "[encoded data removed]",
      "text/plain": [
       "<Figure size 500x500 with 1 Axes>"
      ]
     },
     "metadata": {},
     "output_type": "display_data"
    },
    {
     "data": {
      "image/png": "[encoded data removed]",
      "text/plain": [
       "<Figure size 640x480 with 1 Axes>"
      ]
     },
     "metadata": {},
     "output_type": "display_data"
    }
   ],
   "source": [
    "data['quantity tons'] = np.log(data['quantity tons'])\n",
    "sns.displot(data[\"quantity tons\"])\n",
    "plt.show()\n",
    "data['thickness'] = np.log(data['thickness'])\n",
    "sns.distplot(data['thickness'])\n",
    "plt.show()"
   ]
  },
  {
   "cell_type": "code",
   "execution_count": 57,
   "metadata": {},
   "outputs": [
    {
     "name": "stdout",
     "output_type": "stream",
     "text": [
      "status\n",
      "Won                116012\n",
      "Lost                34438\n",
      "Not lost for AM     19573\n",
      "Revised              4276\n",
      "To be approved       4170\n",
      "Draft                3140\n",
      "Offered                53\n",
      "Offerable              10\n",
      "Wonderful               1\n",
      "Name: count, dtype: int64\n",
      "item type\n",
      "W         105615\n",
      "S          69236\n",
      "PL          5660\n",
      "Others       610\n",
      "WI           524\n",
      "IPL           27\n",
      "SLAWR          1\n",
      "Name: count, dtype: int64\n"
     ]
    }
   ],
   "source": [
    "print(data['status'].value_counts())\n",
    "print(data['item type'].value_counts())"
   ]
  },
  {
   "cell_type": "code",
   "execution_count": 13,
   "metadata": {},
   "outputs": [],
   "source": [
    "data['status'].replace(\"Not lost for AM\",\"Won\",inplace=True)\n",
    "data['status'].replace(\"Revised\",\"Lost\",inplace=True)\n",
    "data['status'].replace(\"To be approved\",\"Lost\",inplace=True)\n",
    "data['status'].replace(\"Draft\",\"Lost\",inplace=True)\n",
    "data['status'].replace(\"Offered\",\"Lost\",inplace=True)\n",
    "data['status'].replace(\"Offerable\",\"Lost\",inplace=True)\n",
    "data['status'].replace(\"Wonderful\",\"Lost\",inplace=True)"
   ]
  },
  {
   "cell_type": "code",
   "execution_count": 58,
   "metadata": {},
   "outputs": [
    {
     "data": {
      "text/plain": [
       "<Axes: >"
      ]
     },
     "execution_count": 58,
     "metadata": {},
     "output_type": "execute_result"
    },
    {
     "data": {
      "image/png": "[encoded data removed]",
      "text/plain": [
       "<Figure size 2000x300 with 1 Axes>"
      ]
     },
     "metadata": {},
     "output_type": "display_data"
    }
   ],
   "source": [
    "data.boxplot(figsize=(20,3))"
   ]
  },
  {
   "cell_type": "code",
   "execution_count": 59,
   "metadata": {},
   "outputs": [
    {
     "data": {
      "image/png": "[encoded data removed]",
      "text/plain": [
       "<Figure size 640x480 with 1 Axes>"
      ]
     },
     "metadata": {},
     "output_type": "display_data"
    }
   ],
   "source": [
    "\n",
    "sns.distplot(data['customer'])\n",
    "plt.show()"
   ]
  },
  {
   "cell_type": "code",
   "execution_count": 60,
   "metadata": {},
   "outputs": [
    {
     "data": {
      "image/png": "[encoded data removed]",
      "text/plain": [
       "<Figure size 640x480 with 1 Axes>"
      ]
     },
     "metadata": {},
     "output_type": "display_data"
    },
    {
     "data": {
      "image/png": "[encoded data removed]",
      "text/plain": [
       "<Figure size 640x480 with 1 Axes>"
      ]
     },
     "metadata": {},
     "output_type": "display_data"
    },
    {
     "data": {
      "image/png": "[encoded data removed]",
      "text/plain": [
       "<Figure size 640x480 with 1 Axes>"
      ]
     },
     "metadata": {},
     "output_type": "display_data"
    },
    {
     "data": {
      "image/png": "[encoded data removed]",
      "text/plain": [
       "<Figure size 640x480 with 1 Axes>"
      ]
     },
     "metadata": {},
     "output_type": "display_data"
    }
   ],
   "source": [
    "sns.distplot(data['country'])\n",
    "plt.show()\n",
    "sns.distplot(data['application'])\n",
    "plt.show()\n",
    "sns.distplot(data['width'])\n",
    "plt.show()\n",
    "sns.distplot(data['product_ref'])\n",
    "plt.show()"
   ]
  },
  {
   "cell_type": "code",
   "execution_count": 65,
   "metadata": {},
   "outputs": [],
   "source": [
    "num = []\n",
    "for i in data.columns:\n",
    "    if data[i].dtype == 'object':\n",
    "        continue\n",
    "    num.append(i)"
   ]
  },
  {
   "cell_type": "code",
   "execution_count": 81,
   "metadata": {},
   "outputs": [
    {
     "data": {
      "text/plain": [
       "['quantity tons',\n",
       " 'customer',\n",
       " 'country',\n",
       " 'application',\n",
       " 'thickness',\n",
       " 'width',\n",
       " 'product_ref']"
      ]
     },
     "execution_count": 81,
     "metadata": {},
     "output_type": "execute_result"
    }
   ],
   "source": [
    "num[0:-1]"
   ]
  },
  {
   "cell_type": "code",
   "execution_count": 61,
   "metadata": {},
   "outputs": [
    {
     "data": {
      "text/html": [
       "<div>\n",
       "<style scoped>\n",
       "    .dataframe tbody tr th:only-of-type {\n",
       "        vertical-align: middle;\n",
       "    }\n",
       "\n",
       "    .dataframe tbody tr th {\n",
       "        vertical-align: top;\n",
       "    }\n",
       "\n",
       "    .dataframe thead th {\n",
       "        text-align: right;\n",
       "    }\n",
       "</style>\n",
       "<table border=\"1\" class=\"dataframe\">\n",
       "  <thead>\n",
       "    <tr style=\"text-align: right;\">\n",
       "      <th></th>\n",
       "      <th>quantity tons</th>\n",
       "      <th>customer</th>\n",
       "      <th>country</th>\n",
       "      <th>application</th>\n",
       "      <th>thickness</th>\n",
       "      <th>width</th>\n",
       "      <th>product_ref</th>\n",
       "      <th>selling_price</th>\n",
       "    </tr>\n",
       "  </thead>\n",
       "  <tbody>\n",
       "    <tr>\n",
       "      <th>quantity tons</th>\n",
       "      <td>1.000000</td>\n",
       "      <td>0.002611</td>\n",
       "      <td>-0.088928</td>\n",
       "      <td>0.063961</td>\n",
       "      <td>0.042063</td>\n",
       "      <td>0.034441</td>\n",
       "      <td>0.064062</td>\n",
       "      <td>-0.000991</td>\n",
       "    </tr>\n",
       "    <tr>\n",
       "      <th>customer</th>\n",
       "      <td>0.002611</td>\n",
       "      <td>1.000000</td>\n",
       "      <td>-0.006669</td>\n",
       "      <td>-0.006869</td>\n",
       "      <td>0.018855</td>\n",
       "      <td>0.009203</td>\n",
       "      <td>-0.007716</td>\n",
       "      <td>-0.000053</td>\n",
       "    </tr>\n",
       "    <tr>\n",
       "      <th>country</th>\n",
       "      <td>-0.088928</td>\n",
       "      <td>-0.006669</td>\n",
       "      <td>1.000000</td>\n",
       "      <td>-0.019304</td>\n",
       "      <td>-0.065344</td>\n",
       "      <td>0.055229</td>\n",
       "      <td>-0.147326</td>\n",
       "      <td>0.002993</td>\n",
       "    </tr>\n",
       "    <tr>\n",
       "      <th>application</th>\n",
       "      <td>0.063961</td>\n",
       "      <td>-0.006869</td>\n",
       "      <td>-0.019304</td>\n",
       "      <td>1.000000</td>\n",
       "      <td>-0.197553</td>\n",
       "      <td>-0.204478</td>\n",
       "      <td>-0.131784</td>\n",
       "      <td>0.001462</td>\n",
       "    </tr>\n",
       "    <tr>\n",
       "      <th>thickness</th>\n",
       "      <td>0.042063</td>\n",
       "      <td>0.018855</td>\n",
       "      <td>-0.065344</td>\n",
       "      <td>-0.197553</td>\n",
       "      <td>1.000000</td>\n",
       "      <td>0.387251</td>\n",
       "      <td>0.234211</td>\n",
       "      <td>-0.004516</td>\n",
       "    </tr>\n",
       "    <tr>\n",
       "      <th>width</th>\n",
       "      <td>0.034441</td>\n",
       "      <td>0.009203</td>\n",
       "      <td>0.055229</td>\n",
       "      <td>-0.204478</td>\n",
       "      <td>0.387251</td>\n",
       "      <td>1.000000</td>\n",
       "      <td>-0.034460</td>\n",
       "      <td>0.000583</td>\n",
       "    </tr>\n",
       "    <tr>\n",
       "      <th>product_ref</th>\n",
       "      <td>0.064062</td>\n",
       "      <td>-0.007716</td>\n",
       "      <td>-0.147326</td>\n",
       "      <td>-0.131784</td>\n",
       "      <td>0.234211</td>\n",
       "      <td>-0.034460</td>\n",
       "      <td>1.000000</td>\n",
       "      <td>0.002118</td>\n",
       "    </tr>\n",
       "    <tr>\n",
       "      <th>selling_price</th>\n",
       "      <td>-0.000991</td>\n",
       "      <td>-0.000053</td>\n",
       "      <td>0.002993</td>\n",
       "      <td>0.001462</td>\n",
       "      <td>-0.004516</td>\n",
       "      <td>0.000583</td>\n",
       "      <td>0.002118</td>\n",
       "      <td>1.000000</td>\n",
       "    </tr>\n",
       "  </tbody>\n",
       "</table>\n",
       "</div>"
      ],
      "text/plain": [
       "               quantity tons  customer   country  application  thickness  \\\n",
       "quantity tons       1.000000  0.002611 -0.088928     0.063961   0.042063   \n",
       "customer            0.002611  1.000000 -0.006669    -0.006869   0.018855   \n",
       "country            -0.088928 -0.006669  1.000000    -0.019304  -0.065344   \n",
       "application         0.063961 -0.006869 -0.019304     1.000000  -0.197553   \n",
       "thickness           0.042063  0.018855 -0.065344    -0.197553   1.000000   \n",
       "width               0.034441  0.009203  0.055229    -0.204478   0.387251   \n",
       "product_ref         0.064062 -0.007716 -0.147326    -0.131784   0.234211   \n",
       "selling_price      -0.000991 -0.000053  0.002993     0.001462  -0.004516   \n",
       "\n",
       "                  width  product_ref  selling_price  \n",
       "quantity tons  0.034441     0.064062      -0.000991  \n",
       "customer       0.009203    -0.007716      -0.000053  \n",
       "country        0.055229    -0.147326       0.002993  \n",
       "application   -0.204478    -0.131784       0.001462  \n",
       "thickness      0.387251     0.234211      -0.004516  \n",
       "width          1.000000    -0.034460       0.000583  \n",
       "product_ref   -0.034460     1.000000       0.002118  \n",
       "selling_price  0.000583     0.002118       1.000000  "
      ]
     },
     "execution_count": 61,
     "metadata": {},
     "output_type": "execute_result"
    }
   ],
   "source": [
    "data[['quantity tons',\"customer\",\"country\",\"application\",\"thickness\",\"width\",\"product_ref\",\"selling_price\"]].corr()"
   ]
  },
  {
   "cell_type": "code",
   "execution_count": 100,
   "metadata": {},
   "outputs": [
    {
     "data": {
      "text/plain": [
       "['quantity tons',\n",
       " 'customer',\n",
       " 'country',\n",
       " 'status',\n",
       " 'item type',\n",
       " 'application',\n",
       " 'thickness',\n",
       " 'width',\n",
       " 'product_ref']"
      ]
     },
     "execution_count": 100,
     "metadata": {},
     "output_type": "execute_result"
    }
   ],
   "source": [
    "col = []\n",
    "for i in data.columns[0:-1]:\n",
    "    col.append(i)\n",
    "col"
   ]
  },
  {
   "cell_type": "code",
   "execution_count": null,
   "metadata": {},
   "outputs": [],
   "source": []
  },
  {
   "cell_type": "code",
   "execution_count": 101,
   "metadata": {},
   "outputs": [],
   "source": [
    "x = data[col]\n",
    "y = data[[num[-1]]]"
   ]
  },
  {
   "cell_type": "code",
   "execution_count": 107,
   "metadata": {},
   "outputs": [],
   "source": [
    "x.rename(columns={\"item type\":\"item_type\"},inplace=True)"
   ]
  },
  {
   "cell_type": "code",
   "execution_count": 111,
   "metadata": {},
   "outputs": [
    {
     "data": {
      "text/html": [
       "<div>\n",
       "<style scoped>\n",
       "    .dataframe tbody tr th:only-of-type {\n",
       "        vertical-align: middle;\n",
       "    }\n",
       "\n",
       "    .dataframe tbody tr th {\n",
       "        vertical-align: top;\n",
       "    }\n",
       "\n",
       "    .dataframe thead th {\n",
       "        text-align: right;\n",
       "    }\n",
       "</style>\n",
       "<table border=\"1\" class=\"dataframe\">\n",
       "  <thead>\n",
       "    <tr style=\"text-align: right;\">\n",
       "      <th></th>\n",
       "      <th>quantity tons</th>\n",
       "      <th>customer</th>\n",
       "      <th>country</th>\n",
       "      <th>status</th>\n",
       "      <th>item_type</th>\n",
       "      <th>application</th>\n",
       "      <th>thickness</th>\n",
       "      <th>width</th>\n",
       "      <th>product_ref</th>\n",
       "    </tr>\n",
       "  </thead>\n",
       "  <tbody>\n",
       "    <tr>\n",
       "      <th>0</th>\n",
       "      <td>3.991779</td>\n",
       "      <td>30156308.0</td>\n",
       "      <td>28.0</td>\n",
       "      <td>7</td>\n",
       "      <td>5</td>\n",
       "      <td>10.0</td>\n",
       "      <td>0.693147</td>\n",
       "      <td>1500.0</td>\n",
       "      <td>1670798778</td>\n",
       "    </tr>\n",
       "    <tr>\n",
       "      <th>1</th>\n",
       "      <td>6.643822</td>\n",
       "      <td>30202938.0</td>\n",
       "      <td>25.0</td>\n",
       "      <td>7</td>\n",
       "      <td>5</td>\n",
       "      <td>41.0</td>\n",
       "      <td>-0.223144</td>\n",
       "      <td>1210.0</td>\n",
       "      <td>1668701718</td>\n",
       "    </tr>\n",
       "    <tr>\n",
       "      <th>2</th>\n",
       "      <td>5.956169</td>\n",
       "      <td>30153963.0</td>\n",
       "      <td>30.0</td>\n",
       "      <td>7</td>\n",
       "      <td>6</td>\n",
       "      <td>28.0</td>\n",
       "      <td>-0.967584</td>\n",
       "      <td>952.0</td>\n",
       "      <td>628377</td>\n",
       "    </tr>\n",
       "    <tr>\n",
       "      <th>3</th>\n",
       "      <td>5.310301</td>\n",
       "      <td>30349574.0</td>\n",
       "      <td>32.0</td>\n",
       "      <td>7</td>\n",
       "      <td>3</td>\n",
       "      <td>59.0</td>\n",
       "      <td>0.832909</td>\n",
       "      <td>1317.0</td>\n",
       "      <td>1668701718</td>\n",
       "    </tr>\n",
       "    <tr>\n",
       "      <th>4</th>\n",
       "      <td>6.666354</td>\n",
       "      <td>30211560.0</td>\n",
       "      <td>28.0</td>\n",
       "      <td>7</td>\n",
       "      <td>5</td>\n",
       "      <td>10.0</td>\n",
       "      <td>1.386294</td>\n",
       "      <td>2000.0</td>\n",
       "      <td>640665</td>\n",
       "    </tr>\n",
       "  </tbody>\n",
       "</table>\n",
       "</div>"
      ],
      "text/plain": [
       "   quantity tons    customer  country  status  item_type  application  \\\n",
       "0       3.991779  30156308.0     28.0       7          5         10.0   \n",
       "1       6.643822  30202938.0     25.0       7          5         41.0   \n",
       "2       5.956169  30153963.0     30.0       7          6         28.0   \n",
       "3       5.310301  30349574.0     32.0       7          3         59.0   \n",
       "4       6.666354  30211560.0     28.0       7          5         10.0   \n",
       "\n",
       "   thickness   width  product_ref  \n",
       "0   0.693147  1500.0   1670798778  \n",
       "1  -0.223144  1210.0   1668701718  \n",
       "2  -0.967584   952.0       628377  \n",
       "3   0.832909  1317.0   1668701718  \n",
       "4   1.386294  2000.0       640665  "
      ]
     },
     "execution_count": 111,
     "metadata": {},
     "output_type": "execute_result"
    }
   ],
   "source": [
    "x.head()"
   ]
  },
  {
   "cell_type": "code",
   "execution_count": 109,
   "metadata": {},
   "outputs": [],
   "source": [
    "label = LabelEncoder()"
   ]
  },
  {
   "cell_type": "code",
   "execution_count": 110,
   "metadata": {},
   "outputs": [],
   "source": [
    "x['status'] = label.fit_transform(x.status)\n",
    "x['item_type'] = label.fit_transform(x.item_type)"
   ]
  },
  {
   "cell_type": "code",
   "execution_count": 70,
   "metadata": {},
   "outputs": [],
   "source": [
    "ohe = OneHotEncoder(handle_unknown='ignore')"
   ]
  },
  {
   "cell_type": "code",
   "execution_count": 71,
   "metadata": {},
   "outputs": [
    {
     "data": {
      "text/html": [
       "<style>#sk-container-id-2 {color: black;}#sk-container-id-2 pre{padding: 0;}#sk-container-id-2 div.sk-toggleable {background-color: white;}#sk-container-id-2 label.sk-toggleable__label {cursor: pointer;display: block;width: 100%;margin-bottom: 0;padding: 0.3em;box-sizing: border-box;text-align: center;}#sk-container-id-2 label.sk-toggleable__label-arrow:before {content: \"▸\";float: left;margin-right: 0.25em;color: #696969;}#sk-container-id-2 label.sk-toggleable__label-arrow:hover:before {color: black;}#sk-container-id-2 div.sk-estimator:hover label.sk-toggleable__label-arrow:before {color: black;}#sk-container-id-2 div.sk-toggleable__content {max-height: 0;max-width: 0;overflow: hidden;text-align: left;background-color: #f0f8ff;}#sk-container-id-2 div.sk-toggleable__content pre {margin: 0.2em;color: black;border-radius: 0.25em;background-color: #f0f8ff;}#sk-container-id-2 input.sk-toggleable__control:checked~div.sk-toggleable__content {max-height: 200px;max-width: 100%;overflow: auto;}#sk-container-id-2 input.sk-toggleable__control:checked~label.sk-toggleable__label-arrow:before {content: \"▾\";}#sk-container-id-2 div.sk-estimator input.sk-toggleable__control:checked~label.sk-toggleable__label {background-color: #d4ebff;}#sk-container-id-2 div.sk-label input.sk-toggleable__control:checked~label.sk-toggleable__label {background-color: #d4ebff;}#sk-container-id-2 input.sk-hidden--visually {border: 0;clip: rect(1px 1px 1px 1px);clip: rect(1px, 1px, 1px, 1px);height: 1px;margin: -1px;overflow: hidden;padding: 0;position: absolute;width: 1px;}#sk-container-id-2 div.sk-estimator {font-family: monospace;background-color: #f0f8ff;border: 1px dotted black;border-radius: 0.25em;box-sizing: border-box;margin-bottom: 0.5em;}#sk-container-id-2 div.sk-estimator:hover {background-color: #d4ebff;}#sk-container-id-2 div.sk-parallel-item::after {content: \"\";width: 100%;border-bottom: 1px solid gray;flex-grow: 1;}#sk-container-id-2 div.sk-label:hover label.sk-toggleable__label {background-color: #d4ebff;}#sk-container-id-2 div.sk-serial::before {content: \"\";position: absolute;border-left: 1px solid gray;box-sizing: border-box;top: 0;bottom: 0;left: 50%;z-index: 0;}#sk-container-id-2 div.sk-serial {display: flex;flex-direction: column;align-items: center;background-color: white;padding-right: 0.2em;padding-left: 0.2em;position: relative;}#sk-container-id-2 div.sk-item {position: relative;z-index: 1;}#sk-container-id-2 div.sk-parallel {display: flex;align-items: stretch;justify-content: center;background-color: white;position: relative;}#sk-container-id-2 div.sk-item::before, #sk-container-id-2 div.sk-parallel-item::before {content: \"\";position: absolute;border-left: 1px solid gray;box-sizing: border-box;top: 0;bottom: 0;left: 50%;z-index: -1;}#sk-container-id-2 div.sk-parallel-item {display: flex;flex-direction: column;z-index: 1;position: relative;background-color: white;}#sk-container-id-2 div.sk-parallel-item:first-child::after {align-self: flex-end;width: 50%;}#sk-container-id-2 div.sk-parallel-item:last-child::after {align-self: flex-start;width: 50%;}#sk-container-id-2 div.sk-parallel-item:only-child::after {width: 0;}#sk-container-id-2 div.sk-dashed-wrapped {border: 1px dashed gray;margin: 0 0.4em 0.5em 0.4em;box-sizing: border-box;padding-bottom: 0.4em;background-color: white;}#sk-container-id-2 div.sk-label label {font-family: monospace;font-weight: bold;display: inline-block;line-height: 1.2em;}#sk-container-id-2 div.sk-label-container {text-align: center;}#sk-container-id-2 div.sk-container {/* jupyter's `normalize.less` sets `[hidden] { display: none; }` but bootstrap.min.css set `[hidden] { display: none !important; }` so we also need the `!important` here to be able to override the default hidden behavior on the sphinx rendered scikit-learn.org. See: https://github.com/scikit-learn/scikit-learn/issues/21755 */display: inline-block !important;position: relative;}#sk-container-id-2 div.sk-text-repr-fallback {display: none;}</style><div id=\"sk-container-id-2\" class=\"sk-top-container\"><div class=\"sk-text-repr-fallback\"><pre>OneHotEncoder(handle_unknown=&#x27;ignore&#x27;)</pre><b>In a Jupyter environment, please rerun this cell to show the HTML representation or trust the notebook. <br />On GitHub, the HTML representation is unable to render, please try loading this page with nbviewer.org.</b></div><div class=\"sk-container\" hidden><div class=\"sk-item\"><div class=\"sk-estimator sk-toggleable\"><input class=\"sk-toggleable__control sk-hidden--visually\" id=\"sk-estimator-id-2\" type=\"checkbox\" checked><label for=\"sk-estimator-id-2\" class=\"sk-toggleable__label sk-toggleable__label-arrow\">OneHotEncoder</label><div class=\"sk-toggleable__content\"><pre>OneHotEncoder(handle_unknown=&#x27;ignore&#x27;)</pre></div></div></div></div></div>"
      ],
      "text/plain": [
       "OneHotEncoder(handle_unknown='ignore')"
      ]
     },
     "execution_count": 71,
     "metadata": {},
     "output_type": "execute_result"
    }
   ],
   "source": [
    "ohe.fit(data[['status']])"
   ]
  },
  {
   "cell_type": "code",
   "execution_count": 72,
   "metadata": {},
   "outputs": [],
   "source": [
    "status = ohe.fit_transform(data[['status']]).toarray()"
   ]
  },
  {
   "cell_type": "code",
   "execution_count": 74,
   "metadata": {},
   "outputs": [],
   "source": [
    "ohe2 = ohe\n",
    "ohe2.fit(data[['item type']])\n",
    "item_type = ohe.fit_transform(data[['item type']]).toarray()"
   ]
  },
  {
   "cell_type": "code",
   "execution_count": 112,
   "metadata": {},
   "outputs": [],
   "source": [
    "scale = StandardScaler()\n",
    "x = scale.fit_transform(x)"
   ]
  },
  {
   "cell_type": "code",
   "execution_count": 115,
   "metadata": {},
   "outputs": [
    {
     "data": {
      "text/plain": [
       "array([ 0.4150354 , -0.01462579, -0.69215874,  0.70634112,  0.82159022,\n",
       "       -0.87951774,  0.2278673 ,  0.78245028,  1.66803815])"
      ]
     },
     "execution_count": 115,
     "metadata": {},
     "output_type": "execute_result"
    }
   ],
   "source": [
    "x[0]"
   ]
  },
  {
   "cell_type": "code",
   "execution_count": 88,
   "metadata": {},
   "outputs": [],
   "source": [
    "x = np.concatenate((x[['quantity tons','customer','country','application','thickness','width','product_ref']].values,status,item_type),axis=1)"
   ]
  },
  {
   "cell_type": "code",
   "execution_count": 116,
   "metadata": {},
   "outputs": [],
   "source": [
    "xtrain,xtest,ytrain,ytest = train_test_split(x,y,test_size=0.3,random_state=1)"
   ]
  },
  {
   "cell_type": "code",
   "execution_count": 117,
   "metadata": {},
   "outputs": [
    {
     "data": {
      "text/plain": [
       "(54502, 9)"
      ]
     },
     "execution_count": 117,
     "metadata": {},
     "output_type": "execute_result"
    }
   ],
   "source": [
    "xtest.shape"
   ]
  },
  {
   "cell_type": "code",
   "execution_count": 118,
   "metadata": {},
   "outputs": [],
   "source": [
    "lm = LinearRegression()"
   ]
  },
  {
   "cell_type": "code",
   "execution_count": null,
   "metadata": {},
   "outputs": [],
   "source": [
    "model = lm.fit(xtrain,ytrain)"
   ]
  },
  {
   "cell_type": "code",
   "execution_count": 120,
   "metadata": {},
   "outputs": [
    {
     "data": {
      "text/html": [
       "<div>\n",
       "<style scoped>\n",
       "    .dataframe tbody tr th:only-of-type {\n",
       "        vertical-align: middle;\n",
       "    }\n",
       "\n",
       "    .dataframe tbody tr th {\n",
       "        vertical-align: top;\n",
       "    }\n",
       "\n",
       "    .dataframe thead th {\n",
       "        text-align: right;\n",
       "    }\n",
       "</style>\n",
       "<table border=\"1\" class=\"dataframe\">\n",
       "  <thead>\n",
       "    <tr style=\"text-align: right;\">\n",
       "      <th></th>\n",
       "      <th>quantity tons</th>\n",
       "      <th>customer</th>\n",
       "      <th>country</th>\n",
       "      <th>status</th>\n",
       "      <th>item_type</th>\n",
       "      <th>application</th>\n",
       "      <th>thickness</th>\n",
       "      <th>width</th>\n",
       "      <th>product_ref</th>\n",
       "    </tr>\n",
       "  </thead>\n",
       "  <tbody>\n",
       "    <tr>\n",
       "      <th>0</th>\n",
       "      <td>0.415035</td>\n",
       "      <td>-0.014626</td>\n",
       "      <td>-0.692159</td>\n",
       "      <td>0.706341</td>\n",
       "      <td>0.821590</td>\n",
       "      <td>-0.879518</td>\n",
       "      <td>0.227867</td>\n",
       "      <td>0.782450</td>\n",
       "      <td>1.668038</td>\n",
       "    </tr>\n",
       "    <tr>\n",
       "      <th>1</th>\n",
       "      <td>2.250536</td>\n",
       "      <td>-0.012710</td>\n",
       "      <td>-0.815095</td>\n",
       "      <td>0.706341</td>\n",
       "      <td>0.821590</td>\n",
       "      <td>0.866629</td>\n",
       "      <td>-0.753416</td>\n",
       "      <td>-0.325981</td>\n",
       "      <td>1.665115</td>\n",
       "    </tr>\n",
       "    <tr>\n",
       "      <th>2</th>\n",
       "      <td>1.774606</td>\n",
       "      <td>-0.014722</td>\n",
       "      <td>-0.610201</td>\n",
       "      <td>0.706341</td>\n",
       "      <td>1.769254</td>\n",
       "      <td>0.134374</td>\n",
       "      <td>-1.550660</td>\n",
       "      <td>-1.312102</td>\n",
       "      <td>-0.659699</td>\n",
       "    </tr>\n",
       "    <tr>\n",
       "      <th>3</th>\n",
       "      <td>1.327595</td>\n",
       "      <td>-0.006683</td>\n",
       "      <td>-0.528244</td>\n",
       "      <td>0.706341</td>\n",
       "      <td>-1.073736</td>\n",
       "      <td>1.880521</td>\n",
       "      <td>0.377543</td>\n",
       "      <td>0.082992</td>\n",
       "      <td>1.665115</td>\n",
       "    </tr>\n",
       "    <tr>\n",
       "      <th>4</th>\n",
       "      <td>2.266130</td>\n",
       "      <td>-0.012355</td>\n",
       "      <td>-0.692159</td>\n",
       "      <td>0.706341</td>\n",
       "      <td>0.821590</td>\n",
       "      <td>-0.879518</td>\n",
       "      <td>0.970180</td>\n",
       "      <td>2.693539</td>\n",
       "      <td>-0.659682</td>\n",
       "    </tr>\n",
       "    <tr>\n",
       "      <th>...</th>\n",
       "      <td>...</td>\n",
       "      <td>...</td>\n",
       "      <td>...</td>\n",
       "      <td>...</td>\n",
       "      <td>...</td>\n",
       "      <td>...</td>\n",
       "      <td>...</td>\n",
       "      <td>...</td>\n",
       "      <td>...</td>\n",
       "    </tr>\n",
       "    <tr>\n",
       "      <th>181668</th>\n",
       "      <td>0.856540</td>\n",
       "      <td>-0.012795</td>\n",
       "      <td>-0.815095</td>\n",
       "      <td>0.706341</td>\n",
       "      <td>0.821590</td>\n",
       "      <td>0.866629</td>\n",
       "      <td>-0.558162</td>\n",
       "      <td>-0.287759</td>\n",
       "      <td>-0.431809</td>\n",
       "    </tr>\n",
       "    <tr>\n",
       "      <th>181669</th>\n",
       "      <td>1.346734</td>\n",
       "      <td>-0.012795</td>\n",
       "      <td>-0.815095</td>\n",
       "      <td>0.706341</td>\n",
       "      <td>0.821590</td>\n",
       "      <td>0.866629</td>\n",
       "      <td>-0.569377</td>\n",
       "      <td>0.782450</td>\n",
       "      <td>-0.431809</td>\n",
       "    </tr>\n",
       "    <tr>\n",
       "      <th>181670</th>\n",
       "      <td>-1.348633</td>\n",
       "      <td>-0.012795</td>\n",
       "      <td>-0.815095</td>\n",
       "      <td>0.706341</td>\n",
       "      <td>0.821590</td>\n",
       "      <td>0.866629</td>\n",
       "      <td>-0.881228</td>\n",
       "      <td>-0.173094</td>\n",
       "      <td>-0.431809</td>\n",
       "    </tr>\n",
       "    <tr>\n",
       "      <th>181671</th>\n",
       "      <td>NaN</td>\n",
       "      <td>-0.012795</td>\n",
       "      <td>-0.815095</td>\n",
       "      <td>0.706341</td>\n",
       "      <td>0.821590</td>\n",
       "      <td>0.866629</td>\n",
       "      <td>-0.688491</td>\n",
       "      <td>-0.173094</td>\n",
       "      <td>-0.431809</td>\n",
       "    </tr>\n",
       "    <tr>\n",
       "      <th>181672</th>\n",
       "      <td>1.810508</td>\n",
       "      <td>-0.012795</td>\n",
       "      <td>-0.815095</td>\n",
       "      <td>0.706341</td>\n",
       "      <td>0.821590</td>\n",
       "      <td>0.866629</td>\n",
       "      <td>-0.881228</td>\n",
       "      <td>-0.211316</td>\n",
       "      <td>-0.431809</td>\n",
       "    </tr>\n",
       "  </tbody>\n",
       "</table>\n",
       "<p>181673 rows × 9 columns</p>\n",
       "</div>"
      ],
      "text/plain": [
       "        quantity tons  customer   country    status  item_type  application  \\\n",
       "0            0.415035 -0.014626 -0.692159  0.706341   0.821590    -0.879518   \n",
       "1            2.250536 -0.012710 -0.815095  0.706341   0.821590     0.866629   \n",
       "2            1.774606 -0.014722 -0.610201  0.706341   1.769254     0.134374   \n",
       "3            1.327595 -0.006683 -0.528244  0.706341  -1.073736     1.880521   \n",
       "4            2.266130 -0.012355 -0.692159  0.706341   0.821590    -0.879518   \n",
       "...               ...       ...       ...       ...        ...          ...   \n",
       "181668       0.856540 -0.012795 -0.815095  0.706341   0.821590     0.866629   \n",
       "181669       1.346734 -0.012795 -0.815095  0.706341   0.821590     0.866629   \n",
       "181670      -1.348633 -0.012795 -0.815095  0.706341   0.821590     0.866629   \n",
       "181671            NaN -0.012795 -0.815095  0.706341   0.821590     0.866629   \n",
       "181672       1.810508 -0.012795 -0.815095  0.706341   0.821590     0.866629   \n",
       "\n",
       "        thickness     width  product_ref  \n",
       "0        0.227867  0.782450     1.668038  \n",
       "1       -0.753416 -0.325981     1.665115  \n",
       "2       -1.550660 -1.312102    -0.659699  \n",
       "3        0.377543  0.082992     1.665115  \n",
       "4        0.970180  2.693539    -0.659682  \n",
       "...           ...       ...          ...  \n",
       "181668  -0.558162 -0.287759    -0.431809  \n",
       "181669  -0.569377  0.782450    -0.431809  \n",
       "181670  -0.881228 -0.173094    -0.431809  \n",
       "181671  -0.688491 -0.173094    -0.431809  \n",
       "181672  -0.881228 -0.211316    -0.431809  \n",
       "\n",
       "[181673 rows x 9 columns]"
      ]
     },
     "execution_count": 120,
     "metadata": {},
     "output_type": "execute_result"
    }
   ],
   "source": [
    "z = pd.DataFrame(x,columns=['quantity tons','customer','country','status','item_type','application','thickness','width','product_ref'])\n",
    "z"
   ]
  },
  {
   "cell_type": "code",
   "execution_count": 121,
   "metadata": {},
   "outputs": [
    {
     "name": "stdout",
     "output_type": "stream",
     "text": [
      "<class 'pandas.core.frame.DataFrame'>\n",
      "RangeIndex: 181673 entries, 0 to 181672\n",
      "Data columns (total 9 columns):\n",
      " #   Column         Non-Null Count   Dtype  \n",
      "---  ------         --------------   -----  \n",
      " 0   quantity tons  181669 non-null  float64\n",
      " 1   customer       181673 non-null  float64\n",
      " 2   country        181673 non-null  float64\n",
      " 3   status         181673 non-null  float64\n",
      " 4   item_type      181673 non-null  float64\n",
      " 5   application    181673 non-null  float64\n",
      " 6   thickness      181673 non-null  float64\n",
      " 7   width          181673 non-null  float64\n",
      " 8   product_ref    181673 non-null  float64\n",
      "dtypes: float64(9)\n",
      "memory usage: 12.5 MB\n"
     ]
    }
   ],
   "source": [
    "z.info()"
   ]
  },
  {
   "cell_type": "code",
   "execution_count": 149,
   "metadata": {},
   "outputs": [
    {
     "data": {
      "text/plain": [
       "quantity tons    0\n",
       "customer         0\n",
       "country          0\n",
       "status           0\n",
       "item_type        0\n",
       "application      0\n",
       "thickness        0\n",
       "width            0\n",
       "product_ref      0\n",
       "dtype: int64"
      ]
     },
     "execution_count": 149,
     "metadata": {},
     "output_type": "execute_result"
    }
   ],
   "source": [
    "z.isnull().sum()"
   ]
  },
  {
   "cell_type": "code",
   "execution_count": 148,
   "metadata": {},
   "outputs": [],
   "source": [
    "z['quantity tons'].fillna(z['quantity tons'].median(),inplace=True)"
   ]
  },
  {
   "cell_type": "code",
   "execution_count": 125,
   "metadata": {},
   "outputs": [
    {
     "data": {
      "text/plain": [
       "(181673, 9)"
      ]
     },
     "execution_count": 125,
     "metadata": {},
     "output_type": "execute_result"
    }
   ],
   "source": [
    "z.shape"
   ]
  },
  {
   "cell_type": "code",
   "execution_count": 126,
   "metadata": {},
   "outputs": [
    {
     "data": {
      "text/plain": [
       "(181673, 1)"
      ]
     },
     "execution_count": 126,
     "metadata": {},
     "output_type": "execute_result"
    }
   ],
   "source": [
    "y.shape"
   ]
  },
  {
   "cell_type": "code",
   "execution_count": 127,
   "metadata": {},
   "outputs": [],
   "source": [
    "xtrain,xtest,ytrain,ytest = train_test_split(z,y,test_size=0.3,random_state=1)"
   ]
  },
  {
   "cell_type": "code",
   "execution_count": 128,
   "metadata": {},
   "outputs": [],
   "source": [
    "lm = LinearRegression()"
   ]
  },
  {
   "cell_type": "code",
   "execution_count": 129,
   "metadata": {},
   "outputs": [],
   "source": [
    "model = lm.fit(xtrain,ytrain)"
   ]
  },
  {
   "cell_type": "code",
   "execution_count": 130,
   "metadata": {},
   "outputs": [],
   "source": [
    "pred = model.predict(xtest)"
   ]
  },
  {
   "cell_type": "code",
   "execution_count": 132,
   "metadata": {},
   "outputs": [
    {
     "data": {
      "text/plain": [
       "array([[-2950.21247432],\n",
       "       [12725.23496234],\n",
       "       [ 8595.306951  ],\n",
       "       ...,\n",
       "       [-1181.29270403],\n",
       "       [ 3643.59959724],\n",
       "       [-4004.16690851]])"
      ]
     },
     "execution_count": 132,
     "metadata": {},
     "output_type": "execute_result"
    }
   ],
   "source": [
    "pred"
   ]
  },
  {
   "cell_type": "code",
   "execution_count": 131,
   "metadata": {},
   "outputs": [
    {
     "data": {
      "text/plain": [
       "-445.68877636344905"
      ]
     },
     "execution_count": 131,
     "metadata": {},
     "output_type": "execute_result"
    }
   ],
   "source": [
    "r2 = r2_score(ytest,pred)\n",
    "r2"
   ]
  },
  {
   "cell_type": "code",
   "execution_count": 133,
   "metadata": {},
   "outputs": [
    {
     "data": {
      "text/plain": [
       "<Axes: >"
      ]
     },
     "execution_count": 133,
     "metadata": {},
     "output_type": "execute_result"
    },
    {
     "data": {
      "image/png": "[encoded data removed]",
      "text/plain": [
       "<Figure size 2000x300 with 1 Axes>"
      ]
     },
     "metadata": {},
     "output_type": "display_data"
    }
   ],
   "source": [
    "z.boxplot(figsize=(20,3))"
   ]
  },
  {
   "cell_type": "code",
   "execution_count": 134,
   "metadata": {},
   "outputs": [],
   "source": [
    "def remove_outlier(col):\n",
    "    sorted(col)\n",
    "    Q1,Q3=np.percentile(col,[25,75])\n",
    "    IQR=Q3-Q1\n",
    "    lower_range= Q1-(1.5 * IQR)\n",
    "    upper_range= Q3+(1.5 * IQR)\n",
    "    return lower_range, upper_range"
   ]
  },
  {
   "cell_type": "code",
   "execution_count": 135,
   "metadata": {},
   "outputs": [],
   "source": [
    "cols = ['quantity tons',\"customer\",\"application\",\"thickness\",\"width\"]"
   ]
  },
  {
   "cell_type": "code",
   "execution_count": 141,
   "metadata": {},
   "outputs": [],
   "source": [
    "for column in cols:\n",
    "    lr,ur=remove_outlier(z[column])\n",
    "    z[column]=np.where(z[column]>ur,ur,z[column])\n",
    "    z[column]=np.where(z[column]<lr,lr,z[column])"
   ]
  },
  {
   "cell_type": "code",
   "execution_count": 150,
   "metadata": {},
   "outputs": [
    {
     "data": {
      "text/plain": [
       "<Axes: >"
      ]
     },
     "execution_count": 150,
     "metadata": {},
     "output_type": "execute_result"
    },
    {
     "data": {
      "image/png": "[encoded data removed]",
      "text/plain": [
       "<Figure size 2000x300 with 1 Axes>"
      ]
     },
     "metadata": {},
     "output_type": "display_data"
    }
   ],
   "source": [
    "z.boxplot(figsize=(20,3))"
   ]
  },
  {
   "cell_type": "code",
   "execution_count": 143,
   "metadata": {},
   "outputs": [
    {
     "data": {
      "text/plain": [
       "30405714.0"
      ]
     },
     "execution_count": 143,
     "metadata": {},
     "output_type": "execute_result"
    }
   ],
   "source": [
    "z['customer'].max()"
   ]
  },
  {
   "cell_type": "code",
   "execution_count": 151,
   "metadata": {},
   "outputs": [],
   "source": [
    "xtrain,xtest,ytrain,ytest = train_test_split(z,y,test_size=0.3,random_state=1)"
   ]
  },
  {
   "cell_type": "code",
   "execution_count": 152,
   "metadata": {},
   "outputs": [],
   "source": [
    "linear = LinearRegression()"
   ]
  },
  {
   "cell_type": "code",
   "execution_count": 153,
   "metadata": {},
   "outputs": [],
   "source": [
    "models = linear.fit(xtrain,ytrain)"
   ]
  },
  {
   "cell_type": "code",
   "execution_count": 154,
   "metadata": {},
   "outputs": [],
   "source": [
    "prediction = models.predict(xtest)"
   ]
  },
  {
   "cell_type": "code",
   "execution_count": 155,
   "metadata": {},
   "outputs": [
    {
     "data": {
      "text/plain": [
       "-468.20073170037335"
      ]
     },
     "execution_count": 155,
     "metadata": {},
     "output_type": "execute_result"
    }
   ],
   "source": [
    "r2score = r2_score(ytest,prediction)\n",
    "r2score"
   ]
  },
  {
   "cell_type": "code",
   "execution_count": null,
   "metadata": {},
   "outputs": [],
   "source": []
  }
 ],
 "metadata": {
  "kernelspec": {
   "display_name": "Python 3",
   "language": "python",
   "name": "python3"
  },
  "language_info": {
   "codemirror_mode": {
    "name": "ipython",
    "version": 3
   },
   "file_extension": ".py",
   "mimetype": "text/x-python",
   "name": "python",
   "nbconvert_exporter": "python",
   "pygments_lexer": "ipython3",
   "version": "3.11.6"
  }
 },
 "nbformat": 4,
 "nbformat_minor": 2
}
